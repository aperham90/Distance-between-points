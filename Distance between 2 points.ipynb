{
 "cells": [
  {
   "cell_type": "code",
   "execution_count": 1,
   "metadata": {},
   "outputs": [],
   "source": [
    "import math"
   ]
  },
  {
   "cell_type": "code",
   "execution_count": 2,
   "metadata": {},
   "outputs": [],
   "source": [
    "def distance (x1, y1, x2, y2):\n",
    "    deltax = (x1 - x2)\n",
    "    deltay = (y1 - y2)\n",
    "    d = math.sqrt(deltax**2 + deltay**2)\n",
    "    return d"
   ]
  },
  {
   "cell_type": "code",
   "execution_count": 3,
   "metadata": {},
   "outputs": [
    {
     "name": "stdout",
     "output_type": "stream",
     "text": [
      "Enter x1 value from the keyboard: 0\n",
      "Enter y1 value from the keyboard: 0\n",
      "Enter x2 value from the keyboard: 6\n",
      "Enter y2 value from the keyboard: 8\n"
     ]
    }
   ],
   "source": [
    "entry_1 = float (input(\"Enter x1 value from the keyboard: \"))\n",
    "entry_2 = float (input(\"Enter y1 value from the keyboard: \"))\n",
    "entry_3 = float (input(\"Enter x2 value from the keyboard: \")) \n",
    "entry_4 = float (input(\"Enter y2 value from the keyboard: \"))                               "
   ]
  },
  {
   "cell_type": "code",
   "execution_count": 4,
   "metadata": {},
   "outputs": [],
   "source": [
    "distance_between_2_points = distance(entry_1, entry_2, entry_3, entry_4)\n",
    "distance_between_2_points = round(distance_between_2_points, 2)"
   ]
  },
  {
   "cell_type": "code",
   "execution_count": 5,
   "metadata": {},
   "outputs": [
    {
     "name": "stdout",
     "output_type": "stream",
     "text": [
      "The distance between 2 points is   10.0\n"
     ]
    }
   ],
   "source": [
    "print(\"The distance between 2 points is  \", distance_between_2_points)"
   ]
  }
 ],
 "metadata": {
  "kernelspec": {
   "display_name": "Python 3",
   "language": "python",
   "name": "python3"
  },
  "language_info": {
   "codemirror_mode": {
    "name": "ipython",
    "version": 3
   },
   "file_extension": ".py",
   "mimetype": "text/x-python",
   "name": "python",
   "nbconvert_exporter": "python",
   "pygments_lexer": "ipython3",
   "version": "3.7.6"
  }
 },
 "nbformat": 4,
 "nbformat_minor": 4
}
